{
  "nbformat": 4,
  "nbformat_minor": 0,
  "metadata": {
    "colab": {
      "provenance": [],
      "authorship_tag": "ABX9TyOx6D4FfXwU1c+7uVLT10cG",
      "include_colab_link": true
    },
    "kernelspec": {
      "name": "python3",
      "display_name": "Python 3"
    },
    "language_info": {
      "name": "python"
    }
  },
  "cells": [
    {
      "cell_type": "markdown",
      "metadata": {
        "id": "view-in-github",
        "colab_type": "text"
      },
      "source": [
        "<a href=\"https://colab.research.google.com/github/lofernandes/python-projeto/blob/main/python_projeto.ipynb\" target=\"_parent\"><img src=\"https://colab.research.google.com/assets/colab-badge.svg\" alt=\"Open In Colab\"/></a>"
      ]
    },
    {
      "cell_type": "markdown",
      "source": [
        "## Aula 1"
      ],
      "metadata": {
        "id": "EpsPpxvF4SkK"
      }
    },
    {
      "cell_type": "code",
      "source": [
        "print(\"I Competição de Programação da Start\")"
      ],
      "metadata": {
        "colab": {
          "base_uri": "https://localhost:8080/"
        },
        "id": "w9C9Qt-p4bIE",
        "outputId": "4919cda4-e056-46f6-a001-9b80671c9c64"
      },
      "execution_count": 1,
      "outputs": [
        {
          "output_type": "stream",
          "name": "stdout",
          "text": [
            "I Competição de Programação da Start\n"
          ]
        }
      ]
    },
    {
      "cell_type": "code",
      "source": [
        "ano = \"II\"\n",
        "print(ano, \"Competição de Programação da Start\")"
      ],
      "metadata": {
        "colab": {
          "base_uri": "https://localhost:8080/"
        },
        "id": "8-iU-wKm4-w6",
        "outputId": "0a7da957-2b33-4898-fe14-161c3741faae"
      },
      "execution_count": 2,
      "outputs": [
        {
          "output_type": "stream",
          "name": "stdout",
          "text": [
            "II Competição de Programação da Start\n"
          ]
        }
      ]
    },
    {
      "cell_type": "code",
      "source": [
        "print(f\"{ano} Competição de Programação da Start\")"
      ],
      "metadata": {
        "colab": {
          "base_uri": "https://localhost:8080/"
        },
        "id": "RH92nfbt5DHA",
        "outputId": "fca31f41-6f8e-4367-c8f8-be3e8ee04334"
      },
      "execution_count": 3,
      "outputs": [
        {
          "output_type": "stream",
          "name": "stdout",
          "text": [
            "II Competição de Programação da Start\n"
          ]
        }
      ]
    },
    {
      "cell_type": "markdown",
      "source": [
        "## Aula 2\n",
        "\n",
        "Contexto:\n",
        "\n",
        "Uma escola está promovendo uma campanha de incentivo à leitura, em que cada estudante recebe pontos ao concluir livros. Esses pontos podem ser trocados por diferentes premios da escola. As categorias de livros têm valores de pontos diferentes:\n",
        "\n",
        "* Livro de ficção: 10 pontos\n",
        "* Livro de não-ficção: 8 pontos\n",
        "* Livro infantil: 6 pontos\n",
        "\n",
        "**Problema:**\n",
        "\n",
        "Rodrigo leu um livro de cada categoria. Agora ele quer saber quantos pontos acumulou com sua leitura.\n",
        "\n",
        "Nosso objetivo é criar um programa em Python que:\n",
        "\n",
        "* Armazene a pontuação de cada categoria de livro em uma variável.\n",
        "* Calcule o total de pontos acumulados por Rodrigo.\n",
        "* Mostre na tela o total de pontos acumulados por Rodrigo."
      ],
      "metadata": {
        "id": "7uvyFdEM5KrP"
      }
    },
    {
      "cell_type": "code",
      "source": [
        "livro_ficcao = 10\n",
        "livro_nficcao = 8\n",
        "livro_infantil = 6\n",
        "\n",
        "pontos_rodrigo = livro_ficcao + livro_nficcao + livro_infantil\n",
        "\n",
        "print(f\"Os pontos totais do Rodrigo são: {pontos_rodrigo}\")"
      ],
      "metadata": {
        "colab": {
          "base_uri": "https://localhost:8080/"
        },
        "id": "tbfd5YFJ5SK2",
        "outputId": "9b7b9f6a-4253-49fd-ab80-5ed95b45092f"
      },
      "execution_count": 4,
      "outputs": [
        {
          "output_type": "stream",
          "name": "stdout",
          "text": [
            "Os pontos totais do Rodrigo são: 24\n"
          ]
        }
      ]
    },
    {
      "cell_type": "markdown",
      "source": [
        "### Desafio\n",
        "\n",
        "Ana também participou da campanha e leu 2 livros de ficção e 5 livros infantis.\n",
        "\n",
        "Como podemos calcular o total de pontos de Ana? Será que é possível calcular o total de pontos acumulados por Rodrigo e Ana juntos?"
      ],
      "metadata": {
        "id": "GunMLVBy5WBW"
      }
    },
    {
      "cell_type": "markdown",
      "source": [
        "## Aula 3\n",
        "\n",
        "Divisão do tesouro: https://olimpiada.ic.unicamp.br/passadas/OBI2020/fase1/programacao-b/\n",
        "\n",
        "A turma do 2º ano encontrou um envelope cheio de figurinhas. Para garantir uma divisão justa, todos concordaram com a sugestão de João, o dono do envelope:\n",
        "\n",
        "Cada amigo, exceto João, deve receber exatamente o mesmo número de figurinhas. João deve receber o dobro da quantidade que cada amigo recebe. Pode ser que o fato de João ser o dono do envelope tenha ajudado a convencer os amigos, mas também contribuiu o fato de que, do jeito proposto, a divisão era exata, sem sobrar nem faltar figurinhas.\n",
        "\n",
        "**Problema:**\n",
        "\n",
        "Crie um programa que determine a quantidade de figurinhas que João recebeu, dado o número total de figurinhas no envelope e o número de amigos de João.\n",
        "\n",
        "**Entrada:**\n",
        "\n",
        "* A primeira linha contém um número inteiro `total_figurinhas`, que representa o número de figurinhas no envelope.\n",
        "* A segunda linha contém um número inteiro `numero_amigos`, que representa a quantidade de amigos de João (excluindo o próprio João)."
      ],
      "metadata": {
        "id": "APv1EYJa5crU"
      }
    },
    {
      "cell_type": "code",
      "source": [
        "total_figurinhas = int(input(\"Digite o total de figurinhas: \"))\n",
        "numero_amigos = int(input(\"Digite o número de amigos: \"))\n",
        "\n",
        "figurinhas_amigos = total_figurinhas // (numero_amigos + 2)\n",
        "figurinhas_joao = 2 * figurinhas_amigos\n",
        "\n",
        "print(f\"João recebeu {figurinhas_joao} figurinhas.\")"
      ],
      "metadata": {
        "colab": {
          "base_uri": "https://localhost:8080/"
        },
        "id": "lxkTLx2S5gl4",
        "outputId": "5e4db663-362c-44f5-e96e-6ba6cf909ab6"
      },
      "execution_count": 5,
      "outputs": [
        {
          "output_type": "stream",
          "name": "stdout",
          "text": [
            "Digite o total de figurinhas: 10\n",
            "Digite o número de amigos: 3\n",
            "João recebeu 4 figurinhas.\n"
          ]
        }
      ]
    },
    {
      "cell_type": "markdown",
      "source": [
        "### Desafio\n",
        "\n",
        "Depois de dividir as figurinhas no recreio, João percebeu que ainda havia algumas figurinhas extras em sua mochila. Ele decidiu que essas figurinhas extras também devem ser distribuídas de forma justa entre ele e seus amigos, mantendo a mesma regra:\n",
        "\n",
        "Cada amigo recebe uma quantidade igual de figurinhas.\n",
        "João recebe o dobro da quantidade de figurinhas que cada amigo recebe.\n",
        "Ajude João a distribuir todas as figurinhas, incluindo as extras, de maneira justa, sem deixar nenhuma figurinha sobrando.\n",
        "\n",
        "Entrada\n",
        "\n",
        "* número total de figurinhas no envelope.\n",
        "* número de amigos de João (excluindo o próprio João).\n",
        "* número de figurinhas extras encontradas na mochila de João.\n",
        "* calcular a nova quantidade total de figurinhas, somando as extras.\n",
        "* dividir as figurinhas entre João e seus amigos, garantindo que João receba o dobro de figurinhas que cada amigo.\n",
        "exibir a quantidade de figurinhas que João recebeu.\n"
      ],
      "metadata": {
        "id": "GItZEa1p5m9y"
      }
    },
    {
      "cell_type": "markdown",
      "source": [
        "## Aula 4\n",
        "\n",
        "Bondinho - link: https://olimpiada.ic.unicamp.br/pratique/pj/2017/f1/bondinho/\n",
        "\n",
        "A turma de um colégio está organizando uma excursão para a serra e, para chegar ao pico da montanha, todos os alunos e monitores devem usar um bondinho. No entanto, a cabine do bondinho tem uma capacidade máxima de 50 pessoas por viagem.\n",
        "\n",
        "Você precisa criar um programa que verifique se todos os alunos e monitores podem ser transportados em apenas uma viagem.\n",
        "\n",
        "**Entrada**\n",
        "\n",
        "* Um número inteiro `numero_alunos`, representando a quantidade de alunos na excursão.\n",
        "* Um número inteiro `numero_monitores`, representando a quantidade de monitores na excursão."
      ],
      "metadata": {
        "id": "iT3CAqKG5saP"
      }
    },
    {
      "cell_type": "code",
      "source": [
        "numero_alunos = int(input(\"Digite a quantidade de alunos: \"))\n",
        "numero_monitores = int(input(\"Digite a quantidade de monitores: \"))\n",
        "resposta_positiva = \"Pode ir\"\n",
        "resposta_negativa = \"Não pode ir\"\n",
        "\n",
        "if numero_alunos + numero_monitores <= 50:\n",
        "  print(resposta_positiva)\n",
        "else:\n",
        "  print(resposta_negativa)"
      ],
      "metadata": {
        "colab": {
          "base_uri": "https://localhost:8080/"
        },
        "id": "e5OyMytv5vMD",
        "outputId": "d50fb75b-ab0e-4941-cec9-d720f341a43d"
      },
      "execution_count": 6,
      "outputs": [
        {
          "output_type": "stream",
          "name": "stdout",
          "text": [
            "Digite a quantidade de alunos: 20\n",
            "Digite a quantidade de monitores: 2\n",
            "Pode ir\n"
          ]
        }
      ]
    },
    {
      "cell_type": "markdown",
      "source": [
        "### Desafio\n",
        "\n",
        "Agora, imagine que infelizmente o bondinho que carrega 50 pessoas está em manutenção e agora todo mundo vai precisar usar um bondinho menos sofisticado e ele só pode levar 30 pessoas. Além disso, 8 professores do colégio também vão participar da excursão. Como fazemos para garantir que o número total de pessoas no bondinho (alunos, monitores e professores) não ultrapasse a capacidade máxima de 30 pessoas?\n",
        "\n",
        "Seu desafio é escrever um programa que verifique se é possível ou não levar todos em apenas uma viagem."
      ],
      "metadata": {
        "id": "DC0plrlu5yDX"
      }
    },
    {
      "cell_type": "markdown",
      "source": [
        "## Aula 5\n",
        "\n",
        "**Flíper:** https://olimpiada.ic.unicamp.br/pratique/pj/2014/f1/fliper/\n",
        "\n",
        "Flíper é um jogo em que uma bolinha de metal cai por um labirinto até chegar à parte de baixo. O jogador ganha pontos dependendo do caminho que a bolinha percorre. Ele pode controlar o trajeto da bolinha movendo algumas portinhas no labirinto. Cada portinha pode estar em duas posições: 0 (virada para a esquerda) ou 1 (virada para a direita).\n",
        "\n",
        "No flíper mostrado na imagem, há duas portinhas. A portinha P está na posição 1 (virada para a direita) e a portinha R está na posição 0 (virada para a esquerda). Isso faz com que a bolinha caia no caminho B.\n",
        "\n",
        "O programa que você deve escrever precisa, dado o valor das posições de P e R, informar por qual dos três caminhos (A, B ou C) a bolinha vai cair.\n",
        "\n",
        "**Entrada**\n",
        "\n",
        "As entradas correspondem a um valor inteiro P (0 ou 1) e um valor inteiro R (0 ou 1) que indicam as posições das portinhas do flíper."
      ],
      "metadata": {
        "id": "E8PtGm4h52DY"
      }
    },
    {
      "cell_type": "code",
      "source": [
        "p = int(input(\"Digite a posição da porta (0 ou 1):\"))\n",
        "r = int(input(\"Digite a posição da porta (0 ou 1):\"))\n",
        "\n",
        "if p==0 and r==0:\n",
        "  print(\"C\")\n",
        "elif p==0 and r==1:\n",
        "  print(\"C\")\n",
        "elif p==1 and r==1:\n",
        "  print(\"A\")\n",
        "else:\n",
        "  print(\"B\")"
      ],
      "metadata": {
        "colab": {
          "base_uri": "https://localhost:8080/"
        },
        "id": "1nSyCnzI54bs",
        "outputId": "fa424e73-ce83-46f9-93f1-39ef29efe6fa"
      },
      "execution_count": 7,
      "outputs": [
        {
          "output_type": "stream",
          "name": "stdout",
          "text": [
            "Digite a posição da porta (0 ou 1):1\n",
            "Digite a posição da porta (0 ou 1):0\n",
            "B\n"
          ]
        }
      ]
    }
  ]
}